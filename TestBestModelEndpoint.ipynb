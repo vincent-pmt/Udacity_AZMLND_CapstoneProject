{
 "cells": [
  {
   "cell_type": "code",
   "execution_count": 6,
   "id": "8b74534e",
   "metadata": {},
   "outputs": [],
   "source": [
    "import urllib.request\n",
    "import json\n",
    "import os\n",
    "import ssl\n",
    "\n",
    "def allowSelfSignedHttps(allowed):\n",
    "    # bypass the server certificate verification on client side\n",
    "    if allowed and not os.environ.get('PYTHONHTTPSVERIFY', '') and getattr(ssl, '_create_unverified_context', None):\n",
    "        ssl._create_default_https_context = ssl._create_unverified_context"
   ]
  },
  {
   "cell_type": "code",
   "execution_count": 7,
   "id": "96c7b285",
   "metadata": {},
   "outputs": [],
   "source": [
    "# URL for the web service, should be similar to:\n",
    "scoring_uri = 'http://7b83b38f-c82a-4935-994b-12d3369ebdd6.eastus2.azurecontainer.io/score'\n",
    "\n",
    "# If the service is authenticated, set the key or token\n",
    "#key = 'sPrqAHMKlPt84fK5eEc4AqgdwZaBZbYZ'"
   ]
  },
  {
   "cell_type": "code",
   "execution_count": 8,
   "id": "a1358bb2",
   "metadata": {},
   "outputs": [],
   "source": [
    "# Two sets of data to score, so we get two results back\n",
    "\n",
    "data =  {\n",
    "  \"data\": [\n",
    "    {\n",
    "      \"age\": 39,\n",
    "      \"anaemia\": 1,\n",
    "      \"creatinine_phosphokinase\": 85,\n",
    "      \"diabetes\": 0,\n",
    "      \"ejection_fraction\": 35,\n",
    "      \"high_blood_pressure\": 0,\n",
    "      \"platelets\": 365000.0,\n",
    "      \"serum_creatinine\": 1.1,\n",
    "      \"serum_sodium\": 139,\n",
    "      \"sex\": 1,\n",
    "      \"smoking\": 1,\n",
    "      \"time\": 201\n",
    "    }\n",
    "  ],\n",
    "  \"method\": \"predict\"\n",
    "}\n",
    "\n",
    "# Convert to JSON string\n",
    "input_data = json.dumps(data)\n",
    "with open(\"data.json\", \"w\") as _f:\n",
    "    _f.write(input_data)"
   ]
  },
  {
   "cell_type": "code",
   "execution_count": 9,
   "id": "d2b72347",
   "metadata": {},
   "outputs": [],
   "source": [
    "# Set the content type\n",
    "headers = {'Content-Type': 'application/json'}\n",
    "# If authentication is enabled, set the authorization header\n",
    "# headers['Authorization'] = f'Bearer {key}'"
   ]
  },
  {
   "cell_type": "code",
   "execution_count": 10,
   "id": "e5b24a12",
   "metadata": {},
   "outputs": [
    {
     "name": "stdout",
     "output_type": "stream",
     "text": [
      "b'\"{\\\\\"result\\\\\": [0]}\"'\n"
     ]
    }
   ],
   "source": [
    "body = str.encode(json.dumps(data))\n",
    "req = urllib.request.Request(scoring_uri, body, headers)\n",
    "\n",
    "try:\n",
    "    response = urllib.request.urlopen(req)\n",
    "\n",
    "    result = response.read()\n",
    "    print(result)\n",
    "except urllib.error.HTTPError as error:\n",
    "    print(\"The request failed with status code: \" + str(error.code))\n",
    "\n",
    "    # Print the headers - they include the requert ID and the timestamp, which are useful for debugging the failure\n",
    "    print(error.info())\n",
    "    print(error.read().decode(\"utf8\", 'ignore'))"
   ]
  },
  {
   "cell_type": "code",
   "execution_count": null,
   "id": "0ea1b846",
   "metadata": {},
   "outputs": [],
   "source": []
  }
 ],
 "metadata": {
  "kernelspec": {
   "display_name": "Python 3.8 - AzureML",
   "language": "python",
   "name": "python38-azureml"
  },
  "language_info": {
   "codemirror_mode": {
    "name": "ipython",
    "version": 3
   },
   "file_extension": ".py",
   "mimetype": "text/x-python",
   "name": "python",
   "nbconvert_exporter": "python",
   "pygments_lexer": "ipython3",
   "version": "3.8.5"
  }
 },
 "nbformat": 4,
 "nbformat_minor": 5
}
